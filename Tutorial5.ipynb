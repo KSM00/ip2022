{
 "cells": [
  {
   "cell_type": "code",
   "execution_count": 4,
   "metadata": {},
   "outputs": [
    {
     "name": "stdout",
     "output_type": "stream",
     "text": [
      "3 still in the loop\n",
      "4 still in the loop\n"
     ]
    }
   ],
   "source": [
    "x = 3\n",
    "while x<5:\n",
    "    print (x, \"still in the loop\")\n",
    "    x = x+1"
   ]
  },
  {
   "cell_type": "code",
   "execution_count": 5,
   "metadata": {},
   "outputs": [],
   "source": [
    "x = 6\n",
    "while x<5:\n",
    "    print (x, \"still in the loop\")"
   ]
  }
 ],
 "metadata": {
  "kernelspec": {
   "display_name": "Python 3.8.13 ('opencv')",
   "language": "python",
   "name": "python3"
  },
  "language_info": {
   "codemirror_mode": {
    "name": "ipython",
    "version": 3
   },
   "file_extension": ".py",
   "mimetype": "text/x-python",
   "name": "python",
   "nbconvert_exporter": "python",
   "pygments_lexer": "ipython3",
   "version": "3.8.13"
  },
  "orig_nbformat": 4,
  "vscode": {
   "interpreter": {
    "hash": "8407c458264ab62f39127f09667603243bec2a2cf38d29950968ff6cb20101d8"
   }
  }
 },
 "nbformat": 4,
 "nbformat_minor": 2
}

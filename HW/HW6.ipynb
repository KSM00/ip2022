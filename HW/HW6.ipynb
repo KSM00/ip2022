{
 "cells": [
  {
   "cell_type": "code",
   "execution_count": null,
   "metadata": {},
   "outputs": [],
   "source": [
    "#인터넷에서 찾았습니다 작동사진은 따로 올렸습니다.\n",
    "#소스코드 출처: https://github.com/niconielsen32/ComputerVision 영상: https://youtu.be/6oLRdnQI_2w\n",
    "\n",
    "import cv2 \n",
    "import matplotlib.pyplot as plt\n",
    "import time\n",
    "\n",
    "#sift\n",
    "sift = cv2.SIFT_create()\n",
    "\n",
    "#feature matching\n",
    "bf = cv2.BFMatcher(cv2.NORM_L2, crossCheck=True)\n",
    "\n",
    "\n",
    "cap = cv2.VideoCapture(0)\n",
    "\n",
    "while cap.isOpened():\n",
    "    # read images\n",
    "\n",
    "    suc, img1 = cap.read()\n",
    "    #img2 = img1\n",
    "    #img1 = cv2.imread('pencil3.jpg')  \n",
    "    img2 = cv2.imread('book.jpg') \n",
    "\n",
    "    start = time.time()\n",
    "\n",
    "    #img1 = cv2.cvtColor(img1, cv2.COLOR_BGR2GRAY)\n",
    "    #img2 = cv2.cvtColor(img2, cv2.COLOR_BGR2GRAY)\n",
    "\n",
    "    keypoints_1, descriptors_1 = sift.detectAndCompute(img1,None)\n",
    "    keypoints_2, descriptors_2 = sift.detectAndCompute(img2,None)\n",
    "\n",
    "    matches = bf.match(descriptors_1,descriptors_2)\n",
    "    matches = sorted(matches, key = lambda x:x.distance)\n",
    "\n",
    "    end = time.time()\n",
    "    totalTime = end - start\n",
    "\n",
    "    fps = 1 / totalTime\n",
    "    #print(\"FPS: \", fps)\n",
    "    \n",
    "\n",
    "    img3 = cv2.drawMatches(img1, keypoints_1, img2, keypoints_2, matches[:30], None, flags=2)\n",
    "    #plt.imshow(img3),plt.show()\n",
    "    cv2.putText(img3, f'FPS: {int(fps)}', (20,450), cv2.FONT_HERSHEY_SIMPLEX, 1.5, (0,255,0), 2)\n",
    "    cv2.imshow('SIFT', img3)\n",
    "\n",
    "    if cv2.waitKey(1) & 0xFF == 27:\n",
    "        break\n",
    "        \n",
    "cap.release()\n",
    "cv2.destroyAllWindows"
   ]
  }
 ],
 "metadata": {
  "kernelspec": {
   "display_name": "opencv",
   "language": "python",
   "name": "python3"
  },
  "language_info": {
   "codemirror_mode": {
    "name": "ipython",
    "version": 3
   },
   "file_extension": ".py",
   "mimetype": "text/x-python",
   "name": "python",
   "nbconvert_exporter": "python",
   "pygments_lexer": "ipython3",
   "version": "3.8.13 (default, Mar 28 2022, 06:59:08) [MSC v.1916 64 bit (AMD64)]"
  },
  "orig_nbformat": 4,
  "vscode": {
   "interpreter": {
    "hash": "b347baf981f807596031fe4af3b08a1377679fa0c77bc5c6d99a64d5c2f6bb62"
   }
  }
 },
 "nbformat": 4,
 "nbformat_minor": 2
}
